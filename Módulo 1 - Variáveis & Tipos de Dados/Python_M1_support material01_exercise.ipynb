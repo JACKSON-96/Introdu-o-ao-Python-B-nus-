{
  "cells": [
    {
      "cell_type": "markdown",
      "metadata": {
        "id": "KJqp9AANOCtf"
      },
      "source": [
        "<img src=\"https://raw.githubusercontent.com/andre-marcos-perez/ebac-course-utils/main/media/logo/newebac_logo_black_half.png\" alt=\"ebac-logo\">\n",
        "\n",
        "---\n",
        "\n",
        "# **Módulo** | Python: Variáveis & Tipos de Dados\n",
        "Caderno de **Exercícios**<br> \n",
        "Professor [André Perez](https://www.linkedin.com/in/andremarcosperez/)\n",
        "\n",
        "---"
      ]
    },
    {
      "cell_type": "markdown",
      "metadata": {
        "id": "d9jDtUbDOE1-"
      },
      "source": [
        "# **Tópicos**\n",
        "\n",
        "<ol type=\"1\">\n",
        "  <li>Introdução ao Google Colab;</li>\n",
        "  <li>Variáveis;</li>\n",
        "  <li>Números;</li>\n",
        "  <li><i>Strings;</i></li>\n",
        "  <li>Boleanos.</li>\n",
        "</ol>"
      ]
    },
    {
      "cell_type": "markdown",
      "metadata": {
        "id": "SmoHgt-lwkpD"
      },
      "source": [
        "---"
      ]
    },
    {
      "cell_type": "markdown",
      "metadata": {
        "id": "GABI6OW8OfQ2"
      },
      "source": [
        "# **Exercícios**"
      ]
    },
    {
      "cell_type": "markdown",
      "metadata": {
        "id": "muD1vxozykSC"
      },
      "source": [
        "## 1\\. Google Colab"
      ]
    },
    {
      "cell_type": "markdown",
      "metadata": {
        "id": "ahrFfCuBxJKs"
      },
      "source": [
        "Crie uma célula de código que escreva o texto \"Olá mundo!\", utilize o comando `print`."
      ]
    },
    {
      "cell_type": "code",
      "execution_count": 1,
      "metadata": {},
      "outputs": [
        {
          "name": "stdout",
          "output_type": "stream",
          "text": [
            "Ola Mundo!!!\n"
          ]
        }
      ],
      "source": [
        "print(\"Ola Mundo!!!\")"
      ]
    },
    {
      "attachments": {},
      "cell_type": "markdown",
      "metadata": {
        "id": "KI9zQRT2xa7m"
      },
      "source": [
        "Crie uma célua de texto e adicione uma imagem."
      ]
    },
    {
      "cell_type": "code",
      "execution_count": 5,
      "metadata": {},
      "outputs": [
        {
          "name": "stdout",
          "output_type": "stream",
          "text": [
            "Nome do arquivo: ./p.png\n",
            "Formato da imagem: PNG\n",
            "Modo de cor: RGBA\n",
            "Tamanho da imagem: (194, 172)\n"
          ]
        }
      ],
      "source": [
        "#execute o comando abaixo no terminal integrado\n",
        "#pip install Pillow\n",
        "\n",
        "# Importe as bibliotecas necessárias\n",
        "from PIL import Image\n",
        "\n",
        "# Abra a imagem\n",
        "im = Image.open(\"./p.png\")\n",
        "\n",
        "# Mostra informações sobre a imagem\n",
        "print(f\"Nome do arquivo: {im.filename}\")\n",
        "print(f\"Formato da imagem: {im.format}\")\n",
        "print(f\"Modo de cor: {im.mode}\")\n",
        "print(f\"Tamanho da imagem: {im.size}\")\n",
        "\n",
        "# Mostra a imagem\n",
        "im.show()\n"
      ]
    },
    {
      "cell_type": "markdown",
      "metadata": {
        "id": "zMN1Q3jdwoJm"
      },
      "source": [
        "---"
      ]
    },
    {
      "cell_type": "markdown",
      "metadata": {
        "id": "tFYOPLS3xiwe"
      },
      "source": [
        "## 2\\. Números"
      ]
    },
    {
      "cell_type": "markdown",
      "metadata": {
        "id": "O2G9gt7tx2c-"
      },
      "source": [
        "Preencha as células de código para preencher os valores de (A), (B) e (C) na tabela de ticket médio abaixo:\n",
        "\n",
        "<br>\n",
        "\n",
        "| Dia   | Valor Total Vendas | Qtd Total Vendas | Ticket Medio |\n",
        "|-------|--------------------|------------------|--------------|\n",
        "| 19/01 | (A)                | 3                | 320.52       |\n",
        "| 20/01 | 834.47             | (B)              | 119.21       |\n",
        "| 23/01 | 15378.12           | 5                | (C)          |"
      ]
    },
    {
      "cell_type": "code",
      "execution_count": 4,
      "metadata": {
        "id": "W-li0nSMzKNa"
      },
      "outputs": [
        {
          "name": "stdout",
          "output_type": "stream",
          "text": [
            "     Dia Valor Total Vendas Qtd Total Vendas Ticket Medio\n",
            "0    DIA              VALOR      QUANTIDADES        MEDIA\n",
            "1  MUDOU              MUDOU            MUDOU            a\n",
            "2  20/02              20,00                2        MUDOU\n",
            "3  21/02              30,00                3            c\n"
          ]
        }
      ],
      "source": [
        "import pandas as pd\n",
        "\n",
        "# Criando o DataFrame com as informações da tabela\n",
        "df = pd.DataFrame({\n",
        "    'Dia': ['DIA','19/02', '20/02', '21/02'],\n",
        "    'Valor Total Vendas': ['VALOR','10,00', '20,00', '30,00'],\n",
        "    'Qtd Total Vendas': ['QUANTIDADES','1', '2', '3'],\n",
        "    'Ticket Medio': ['MEDIA','a', 'b', 'c']\n",
        "})\n",
        "\n",
        "# Substituindo um valor na tabela\n",
        "df.loc[df['Dia']=='19/02','Dia'] ='MUDOU'\n",
        "df.loc[df['Valor Total Vendas']=='10,00','Valor Total Vendas'] ='MUDOU'\n",
        "df.loc[df['Qtd Total Vendas']=='1','Qtd Total Vendas']='MUDOU'\n",
        "df.loc[df['Ticket Medio']== 'b','Ticket Medio']='MUDOU'\n",
        "\n",
        "# Exibindo o DataFrame resultante\n",
        "print(df)\n",
        "\n"
      ]
    },
    {
      "cell_type": "markdown",
      "metadata": {
        "id": "3eoP-Vj9yzh8"
      },
      "source": [
        "---"
      ]
    },
    {
      "cell_type": "markdown",
      "metadata": {
        "id": "yUJ6kdony6Pr"
      },
      "source": [
        "## 3\\. Strings"
      ]
    },
    {
      "cell_type": "markdown",
      "metadata": {
        "id": "KDuZpg-5zCvO"
      },
      "source": [
        "Aplique três métodos distintos na *string* abaixo, você pode conferir alguns métodos neste [link](https://www.w3schools.com/python/python_ref_string.asp):"
      ]
    },
    {
      "cell_type": "code",
      "execution_count": 3,
      "metadata": {},
      "outputs": [
        {
          "name": "stdout",
          "output_type": "stream",
          "text": [
            "A, cAsA, e, verde\n",
            "a! casa! e! verde\n",
            "a, Aasa, e, verde\n"
          ]
        }
      ],
      "source": [
        "string = \"a, casa, e, verde\"\n",
        "nova_string1 = string.replace(\"a\", \"A\")\n",
        "nova_string2 = string.replace(\",\", \"!\")\n",
        "nova_string3 = string.replace(\"c\", \"A\")\n",
        "print(nova_string1) # \"a; casa; e; verde\"\n",
        "print(nova_string2) # \"a; casa; e; verde\"\n",
        "print(nova_string3) # \"a; casa; e; verde\"\n",
        "\n"
      ]
    },
    {
      "cell_type": "markdown",
      "metadata": {
        "id": "guZMHXVq0FnC"
      },
      "source": [
        "Extraia da string abaixo o valor da taxa **selic** na variável `selic` e o valor do **ano** na variavel `ano`. Imprima os valores na tela."
      ]
    },
    {
      "cell_type": "code",
      "execution_count": 2,
      "metadata": {},
      "outputs": [
        {
          "name": "stdout",
          "output_type": "stream",
          "text": [
            "Taxa Selic: 2,75%\n",
            "Anos: 5\n"
          ]
        }
      ],
      "source": [
        "import re\n",
        "\n",
        "noticia = 'Selic vai a 2,75% e supera expectativas; é a primeira alta em 6 anos ja.'\n",
        "\n",
        "# Encontrar o valor da taxa Selic\n",
        "selic_pattern = r'\\d+,\\d+%'  # define um padrão de números com vírgula e % para representar a taxa Selic\n",
        "selic_match = re.search(selic_pattern, noticia)  # realiza uma correspondência do padrão na string noticia\n",
        "\n",
        "if selic_match:\n",
        "    selic = selic_match.group()\n",
        "    print(\"Taxa Selic:\", selic)\n",
        "else:\n",
        "    print(\"Nenhuma taxa Selic encontrada na notícia.\")\n",
        "\n",
        "# Encontrar o valor do ano\n",
        "anos_pattern = r'\\d{4}'  # define um padrão de 4 dígitos consecutivos para representar o ano\n",
        "import re\n",
        "\n",
        "frase = \"já faz 5 anos\"\n",
        "\n",
        "anos_encontrados = re.findall(r'\\d+', frase)\n",
        "\n",
        "if anos_encontrados:\n",
        "    anos = int(anos_encontrados[0])\n",
        "    print(\"Anos:\", anos)\n",
        "else:\n",
        "    print(\"Nenhum ano encontrado na frase.\")\n"
      ]
    },
    {
      "cell_type": "markdown",
      "metadata": {
        "id": "wWzbu-OC0z3L"
      },
      "source": [
        "---"
      ]
    },
    {
      "cell_type": "markdown",
      "metadata": {
        "id": "no8w_Ati01xP"
      },
      "source": [
        "## 4\\. Booleanos"
      ]
    },
    {
      "cell_type": "markdown",
      "metadata": {
        "id": "D_0tC3SC099N"
      },
      "source": [
        "Utilize a tabela da verdade para responder: qual o valor da variável x?"
      ]
    },
    {
      "cell_type": "code",
      "execution_count": 1,
      "metadata": {},
      "outputs": [
        {
          "name": "stdout",
          "output_type": "stream",
          "text": [
            "True\n",
            "O valor atual de x é: True\n"
          ]
        }
      ],
      "source": [
        "a = False\n",
        "b = True\n",
        "x = not a & b\n",
        "print(x)  # output: True\n",
        "\n",
        "# Verificar o valor de x em outro ponto do código\n",
        "print(\"O valor atual de x é:\", x)\n"
      ]
    }
  ],
  "metadata": {
    "colab": {
      "name": "module_1_exercise.ipynb",
      "provenance": [],
      "toc_visible": true
    },
    "kernelspec": {
      "display_name": "Python 3",
      "name": "python3"
    },
    "language_info": {
      "codemirror_mode": {
        "name": "ipython",
        "version": 3
      },
      "file_extension": ".py",
      "mimetype": "text/x-python",
      "name": "python",
      "nbconvert_exporter": "python",
      "pygments_lexer": "ipython3",
      "version": "3.11.0"
    }
  },
  "nbformat": 4,
  "nbformat_minor": 0
}
